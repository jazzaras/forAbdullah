{
  "nbformat": 4,
  "nbformat_minor": 0,
  "metadata": {
    "colab": {
      "provenance": []
    },
    "kernelspec": {
      "name": "python3",
      "display_name": "Python 3"
    },
    "language_info": {
      "name": "python"
    }
  },
  "cells": [
    {
      "cell_type": "markdown",
      "source": [
        "## Task: Train an EMNIST classifier\n",
        "\n",
        "EMNIST (or extended MNIST) is just like MNIST, a bunch of handwritten images, except instead of just digits (0-9) it also has uppercase and lowercase characters.\n",
        "\n",
        "You are provided with the code to load the EMNIST train and split **datasets**\n",
        "\n",
        "Write and train a classifier for EMNIST. Make sure to\n",
        "\n",
        "- Show how your loss(es) dropped during training.\n",
        "- Use the testset as a validation set duirng training.\n",
        "- Show final performance of your model on untrained data.\n",
        "- Maintain good code quality.\n"
      ],
      "metadata": {
        "id": "zemWtDr8gVOf"
      }
    },
    {
      "cell_type": "code",
      "source": [
        "from IPython.display import clear_output"
      ],
      "metadata": {
        "id": "4GQMlmw2hwbn"
      },
      "execution_count": null,
      "outputs": []
    },
    {
      "cell_type": "code",
      "source": [
        "%pip install torch torchvision\n",
        "%pip install matplotlib\n",
        "\n",
        "clear_output()"
      ],
      "metadata": {
        "id": "cvcXCUETh0AW"
      },
      "execution_count": null,
      "outputs": []
    },
    {
      "cell_type": "code",
      "execution_count": null,
      "metadata": {
        "id": "8j3LQ1Qza-vV"
      },
      "outputs": [],
      "source": [
        "import torch\n",
        "import torch.nn as nn\n",
        "\n",
        "from torchvision.datasets import EMNIST\n",
        "import torchvision.transforms.functional as F"
      ]
    },
    {
      "cell_type": "code",
      "source": [
        "train_data = EMNIST(root='emnist_data/', split='byclass', download=True)\n",
        "test_data = EMNIST(root='emnist_data/', split='byclass', download=True, train=False)"
      ],
      "metadata": {
        "id": "InCfHKZme7ga",
        "colab": {
          "base_uri": "https://localhost:8080/"
        },
        "outputId": "d2718115-3965-4c50-c1e4-f60af75d9ce5"
      },
      "execution_count": null,
      "outputs": [
        {
          "output_type": "stream",
          "name": "stdout",
          "text": [
            "Downloading https://www.itl.nist.gov/iaui/vip/cs_links/EMNIST/gzip.zip to emnist_data/EMNIST/raw/gzip.zip\n"
          ]
        },
        {
          "output_type": "stream",
          "name": "stderr",
          "text": [
            "100%|██████████| 561753746/561753746 [00:22<00:00, 25327686.20it/s]\n"
          ]
        },
        {
          "output_type": "stream",
          "name": "stdout",
          "text": [
            "Extracting emnist_data/EMNIST/raw/gzip.zip to emnist_data/EMNIST/raw\n"
          ]
        }
      ]
    },
    {
      "cell_type": "code",
      "source": [
        "# This cell is for demo purposes. feel free to remove it if you want.\n",
        "print('Number of classes in dataset:', len(train_data.classes))\n",
        "print('Unique labels:', train_data.classes)\n",
        "\n",
        "demo_img, demo_label = train_data[10]\n",
        "\n",
        "print(demo_label)\n",
        "F.resize(demo_img, (256, 256)) #resizing just for display"
      ],
      "metadata": {
        "colab": {
          "base_uri": "https://localhost:8080/",
          "height": 348
        },
        "id": "udb4rY5Vhaau",
        "outputId": "3390f1c3-a686-4100-9031-8e3a0ef27bc3"
      },
      "execution_count": null,
      "outputs": [
        {
          "output_type": "stream",
          "name": "stdout",
          "text": [
            "Number of classes in dataset: 62\n",
            "Unique labels: ['0', '1', '2', '3', '4', '5', '6', '7', '8', '9', 'A', 'B', 'C', 'D', 'E', 'F', 'G', 'H', 'I', 'J', 'K', 'L', 'M', 'N', 'O', 'P', 'Q', 'R', 'S', 'T', 'U', 'V', 'W', 'X', 'Y', 'Z', 'a', 'b', 'c', 'd', 'e', 'f', 'g', 'h', 'i', 'j', 'k', 'l', 'm', 'n', 'o', 'p', 'q', 'r', 's', 't', 'u', 'v', 'w', 'x', 'y', 'z']\n",
            "7\n"
          ]
        },
        {
          "output_type": "execute_result",
          "data": {
            "text/plain": [
              "<PIL.Image.Image image mode=L size=256x256>"
            ],
            "image/png": "[encoded data removed]"
          },
          "metadata": {},
          "execution_count": 6
        }
      ]
    },
    {
      "cell_type": "code",
      "source": [
        "import matplotlib.pyplot as plt"
      ],
      "metadata": {
        "id": "p2D1cAt9fNUC"
      },
      "execution_count": null,
      "outputs": []
    },
    {
      "cell_type": "code",
      "source": [
        "plt.imshow(train_data[0][0])"
      ],
      "metadata": {
        "id": "oH4fRGEGrzN3",
        "colab": {
          "base_uri": "https://localhost:8080/",
          "height": 448
        },
        "outputId": "53f00805-389d-4671-a0b2-032076bf167e"
      },
      "execution_count": null,
      "outputs": [
        {
          "output_type": "execute_result",
          "data": {
            "text/plain": [
              "<matplotlib.image.AxesImage at 0x7c908ddb6680>"
            ]
          },
          "metadata": {},
          "execution_count": 9
        },
        {
          "output_type": "display_data",
          "data": {
            "text/plain": [
              "<Figure size 640x480 with 1 Axes>"
            ],
            "image/png": "[encoded data removed]"
          },
          "metadata": {}
        }
      ]
    },
    {
      "cell_type": "code",
      "source": [
        "len(train_data)"
      ],
      "metadata": {
        "id": "Leo4yxAnfmuR",
        "outputId": "09fc932f-9652-4b99-a434-419e12100b24",
        "colab": {
          "base_uri": "https://localhost:8080/"
        }
      },
      "execution_count": null,
      "outputs": [
        {
          "output_type": "execute_result",
          "data": {
            "text/plain": [
              "697932"
            ]
          },
          "metadata": {},
          "execution_count": 11
        }
      ]
    },
    {
      "cell_type": "code",
      "source": [
        "from torchvision import transforms\n",
        "train_data.transform = transforms.ToTensor()\n",
        "test_data.transform = transforms.ToTensor()"
      ],
      "metadata": {
        "id": "wKI38zd0fa6Q"
      },
      "execution_count": null,
      "outputs": []
    },
    {
      "cell_type": "code",
      "source": [
        "import numpy as np"
      ],
      "metadata": {
        "id": "0lQGL5NagUTz"
      },
      "execution_count": null,
      "outputs": []
    },
    {
      "cell_type": "code",
      "source": [
        "plt.imshow(np.transpose(train_data[0][0],(1,2,0)))"
      ],
      "metadata": {
        "id": "IS5O1I8JgC8l",
        "outputId": "038c769c-a4c5-4a4f-dfc5-de99a906ba7b",
        "colab": {
          "base_uri": "https://localhost:8080/",
          "height": 448
        }
      },
      "execution_count": null,
      "outputs": [
        {
          "output_type": "execute_result",
          "data": {
            "text/plain": [
              "<matplotlib.image.AxesImage at 0x7c907be7a350>"
            ]
          },
          "metadata": {},
          "execution_count": 19
        },
        {
          "output_type": "display_data",
          "data": {
            "text/plain": [
              "<Figure size 640x480 with 1 Axes>"
            ],
            "image/png": "[encoded data removed]"
          },
          "metadata": {}
        }
      ]
    },
    {
      "cell_type": "code",
      "source": [
        "train_data[0][0].shape"
      ],
      "metadata": {
        "id": "jG8plByKhG43",
        "outputId": "e9714b4f-6432-41db-d012-fa964ef2039b",
        "colab": {
          "base_uri": "https://localhost:8080/"
        }
      },
      "execution_count": null,
      "outputs": [
        {
          "output_type": "execute_result",
          "data": {
            "text/plain": [
              "torch.Size([1, 28, 28])"
            ]
          },
          "metadata": {},
          "execution_count": 21
        }
      ]
    },
    {
      "cell_type": "code",
      "source": [
        "from torch.utils.data import DataLoader\n",
        "train_loader = DataLoader(train_data,batch_size=100)\n",
        "test_loader = DataLoader(test_data,batch_size=100)"
      ],
      "metadata": {
        "id": "dSO2Z0ixgDID"
      },
      "execution_count": null,
      "outputs": []
    },
    {
      "cell_type": "code",
      "source": [
        "model = nn.Sequential(\n",
        "    nn.Linear(1*28*28,100),\n",
        "    nn.Sigmoid(),\n",
        "    nn.Linear(100,62)\n",
        ")"
      ],
      "metadata": {
        "id": "Le4_hDUWgDLc"
      },
      "execution_count": null,
      "outputs": []
    },
    {
      "cell_type": "code",
      "source": [
        "import torch\n",
        "from torch import nn, optim, utils"
      ],
      "metadata": {
        "id": "lX8ZDxqFiLG_"
      },
      "execution_count": null,
      "outputs": []
    },
    {
      "cell_type": "code",
      "source": [
        "# training loop\n",
        "loss_fn = nn.CrossEntropyLoss()\n",
        "optimizer = optim.SGD(model.parameters(), lr=0.1)"
      ],
      "metadata": {
        "id": "yTNFVVtXgDSD"
      },
      "execution_count": null,
      "outputs": []
    },
    {
      "cell_type": "code",
      "source": [
        "epochs = 10\n",
        "\n",
        "for epoch in range(epochs):\n",
        "  total_loss = 0\n",
        "\n",
        "  for features, labels in train_loader:\n",
        "    optimizer.zero_grad()\n",
        "    # forward\n",
        "    predictions = model(features.reshape(-1,1*28*28))\n",
        "\n",
        "    # loss\n",
        "    loss = loss_fn(predictions,labels)\n",
        "\n",
        "    total_loss += loss.item() # item to extract from tensor the value\n",
        "\n",
        "    #backward\n",
        "\n",
        "    loss.backward()\n",
        "\n",
        "    optimizer.step()\n",
        "\n",
        "  print(f'Epoch { epoch +1} , loss {total_loss/len(train_loader)}')"
      ],
      "metadata": {
        "id": "E_Brrv6lgDUu",
        "outputId": "cff90177-671b-4ea0-d27c-762fe61fc615",
        "colab": {
          "base_uri": "https://localhost:8080/"
        }
      },
      "execution_count": null,
      "outputs": [
        {
          "output_type": "stream",
          "name": "stdout",
          "text": [
            "Epoch 1 , loss 1.4800073336735153\n",
            "Epoch 2 , loss 0.9376104111700482\n"
          ]
        }
      ]
    },
    {
      "cell_type": "code",
      "source": [
        "\n",
        "correct = 0\n",
        "total = 0\n",
        "with torch.no_grad():\n",
        "  for batch in test_loader:\n",
        "    X,y = batch[0], batch[1]\n",
        "    yhat = model(X.reshape(-1,1*28*28))\n",
        "    labels = torch.argmax(yhat, dim = 1)\n",
        "    correct +=  torch.sum(labels==y)\n",
        "    total += len(batch[1])\n",
        "\n",
        "\n",
        "print(f\"accuracy is {correct/total}\")\n",
        "\n"
      ],
      "metadata": {
        "id": "h4oPsN7qgDYn"
      },
      "execution_count": null,
      "outputs": []
    },
    {
      "cell_type": "code",
      "source": [
        "type(train_data[0][0])"
      ],
      "metadata": {
        "id": "MtFAyoCHfRI1",
        "outputId": "eafec693-6384-4b9b-ded2-223f1d41f095",
        "colab": {
          "base_uri": "https://localhost:8080/"
        }
      },
      "execution_count": null,
      "outputs": [
        {
          "output_type": "execute_result",
          "data": {
            "text/plain": [
              "torch.Tensor"
            ]
          },
          "metadata": {},
          "execution_count": 15
        }
      ]
    }
  ]
}