{
  "metadata": {
    "kernelspec": {
      "language": "python",
      "display_name": "Python 3",
      "name": "python3"
    },
    "language_info": {
      "name": "python",
      "version": "3.7.12",
      "mimetype": "text/x-python",
      "codemirror_mode": {
        "name": "ipython",
        "version": 3
      },
      "pygments_lexer": "ipython3",
      "nbconvert_exporter": "python",
      "file_extension": ".py"
    },
    "colab": {
      "provenance": []
    }
  },
  "nbformat_minor": 0,
  "nbformat": 4,
  "cells": [
    {
      "cell_type": "markdown",
      "source": [
        "# Q1. Predicting housing prices\n",
        "\n",
        "In this problem, you will generate models for predicting house prices from given house features. The file “house_prices.txt” contains the data.\n",
        "\n",
        "There are four features used in this regression: \n",
        "\n",
        "* one binary feature (whether or not the house has covered parking)\n",
        "* one numerical feature (size, measure in thousands of square meters)\n",
        "* two categorical features (architectural style and location)\n",
        "\n",
        "Each of the categorial features is represented as a vector of size 3. This gives us feature vectors of size 8 in total for each house. 200 examples are given in the training set."
      ],
      "metadata": {
        "id": "LpkyHj1X9aBL"
      }
    },
    {
      "cell_type": "code",
      "source": [
        "import pathlib\n",
        "\n",
        "import matplotlib.pyplot as plt\n",
        "import numpy as np\n",
        "import pandas as pd"
      ],
      "metadata": {
        "_uuid": "8f2839f25d086af736a60e9eeb907d3b93b6e0e5",
        "_cell_guid": "b1076dfc-b9ad-4769-8c92-a6c4dae69d19",
        "execution": {
          "iopub.status.busy": "2023-03-08T14:52:25.152161Z",
          "iopub.execute_input": "2023-03-08T14:52:25.152644Z",
          "iopub.status.idle": "2023-03-08T14:52:25.158879Z",
          "shell.execute_reply.started": "2023-03-08T14:52:25.152600Z",
          "shell.execute_reply": "2023-03-08T14:52:25.157308Z"
        },
        "trusted": true,
        "id": "bieYZZvY9aBO"
      },
      "execution_count": null,
      "outputs": []
    },
    {
      "cell_type": "code",
      "source": [
        "%%bash\n",
        "\n",
        "gdown 1hLxbWVrnmSnZDGjvu8HeQex6ezbXeLB6"
      ],
      "metadata": {
        "id": "FOV1zQntRzX-",
        "outputId": "83c86c86-25da-473d-8019-68518e9c8516",
        "colab": {
          "base_uri": "https://localhost:8080/"
        }
      },
      "execution_count": null,
      "outputs": [
        {
          "output_type": "stream",
          "name": "stderr",
          "text": [
            "Downloading...\n",
            "From: https://drive.google.com/uc?id=1hLxbWVrnmSnZDGjvu8HeQex6ezbXeLB6\n",
            "To: /content/house_prices.txt\n",
            "\r  0%|          | 0.00/6.08k [00:00<?, ?B/s]\r100%|██████████| 6.08k/6.08k [00:00<00:00, 9.16MB/s]\n"
          ]
        }
      ]
    },
    {
      "cell_type": "code",
      "source": [
        "DATA_DIR = pathlib.Path(\"/content\")"
      ],
      "metadata": {
        "id": "Z6wzKRjO-dDQ"
      },
      "execution_count": null,
      "outputs": []
    },
    {
      "cell_type": "code",
      "source": [
        "features = pd.read_csv(\n",
        "    DATA_DIR / \"house_prices.txt\",\n",
        "    delimiter = \"\\t\",\n",
        "    skiprows=[0, 1, 2, 3, 4],\n",
        "    header=None,\n",
        "    usecols=[0, 1, 2, 3, 4, 6, 7, 8],\n",
        "    names=[\"parking\", \"sq_meters\", \"art_deco\", \"bungalow\", \"colonial\", \"west\", \"east\", \"north\"],\n",
        "    dtype=np.float32\n",
        ")\n",
        "\n",
        "target = pd.read_csv(\n",
        "    DATA_DIR / \"house_prices.txt\",\n",
        "    delimiter = \"\\t\",\n",
        "    skiprows=[0, 1, 2, 3, 4],\n",
        "    header=None,\n",
        "    usecols=[5],\n",
        "    names=[\"price\"],\n",
        "    dtype=np.float32\n",
        ")\n"
      ],
      "metadata": {
        "execution": {
          "iopub.status.busy": "2023-03-08T15:00:42.159689Z",
          "iopub.execute_input": "2023-03-08T15:00:42.160580Z",
          "iopub.status.idle": "2023-03-08T15:00:42.180812Z",
          "shell.execute_reply.started": "2023-03-08T15:00:42.160519Z",
          "shell.execute_reply": "2023-03-08T15:00:42.179717Z"
        },
        "trusted": true,
        "id": "n8MAlhME9aBQ"
      },
      "execution_count": null,
      "outputs": []
    },
    {
      "cell_type": "code",
      "source": [
        "features.head()"
      ],
      "metadata": {
        "execution": {
          "iopub.status.busy": "2023-03-08T15:00:42.515427Z",
          "iopub.execute_input": "2023-03-08T15:00:42.516763Z",
          "iopub.status.idle": "2023-03-08T15:00:42.536126Z",
          "shell.execute_reply.started": "2023-03-08T15:00:42.516708Z",
          "shell.execute_reply": "2023-03-08T15:00:42.534714Z"
        },
        "trusted": true,
        "id": "ZKPMBVmz9aBR",
        "outputId": "2b8370ee-e951-45ae-e4a3-9701136e5d71",
        "colab": {
          "base_uri": "https://localhost:8080/",
          "height": 206
        }
      },
      "execution_count": null,
      "outputs": [
        {
          "output_type": "execute_result",
          "data": {
            "text/plain": [
              "   parking  sq_meters  art_deco  bungalow  colonial  west  east  north\n",
              "0     -1.0     0.1275       0.0       1.0       0.0   0.0   0.0    1.0\n",
              "1      1.0     0.1100       1.0       0.0       0.0   1.0   0.0    0.0\n",
              "2     -1.0     0.1375       0.0       0.0       1.0   0.0   1.0    0.0\n",
              "3      1.0     0.1975       0.0       1.0       0.0   0.0   0.0    1.0\n",
              "4     -1.0     0.1200       0.0       0.0       1.0   1.0   0.0    0.0"
            ],
            "text/html": [
              "\n",
              "  <div id=\"df-0002bbe9-f74f-4fc5-b44e-4510dfd095f0\">\n",
              "    <div class=\"colab-df-container\">\n",
              "      <div>\n",
              "<style scoped>\n",
              "    .dataframe tbody tr th:only-of-type {\n",
              "        vertical-align: middle;\n",
              "    }\n",
              "\n",
              "    .dataframe tbody tr th {\n",
              "        vertical-align: top;\n",
              "    }\n",
              "\n",
              "    .dataframe thead th {\n",
              "        text-align: right;\n",
              "    }\n",
              "</style>\n",
              "<table border=\"1\" class=\"dataframe\">\n",
              "  <thead>\n",
              "    <tr style=\"text-align: right;\">\n",
              "      <th></th>\n",
              "      <th>parking</th>\n",
              "      <th>sq_meters</th>\n",
              "      <th>art_deco</th>\n",
              "      <th>bungalow</th>\n",
              "      <th>colonial</th>\n",
              "      <th>west</th>\n",
              "      <th>east</th>\n",
              "      <th>north</th>\n",
              "    </tr>\n",
              "  </thead>\n",
              "  <tbody>\n",
              "    <tr>\n",
              "      <th>0</th>\n",
              "      <td>-1.0</td>\n",
              "      <td>0.1275</td>\n",
              "      <td>0.0</td>\n",
              "      <td>1.0</td>\n",
              "      <td>0.0</td>\n",
              "      <td>0.0</td>\n",
              "      <td>0.0</td>\n",
              "      <td>1.0</td>\n",
              "    </tr>\n",
              "    <tr>\n",
              "      <th>1</th>\n",
              "      <td>1.0</td>\n",
              "      <td>0.1100</td>\n",
              "      <td>1.0</td>\n",
              "      <td>0.0</td>\n",
              "      <td>0.0</td>\n",
              "      <td>1.0</td>\n",
              "      <td>0.0</td>\n",
              "      <td>0.0</td>\n",
              "    </tr>\n",
              "    <tr>\n",
              "      <th>2</th>\n",
              "      <td>-1.0</td>\n",
              "      <td>0.1375</td>\n",
              "      <td>0.0</td>\n",
              "      <td>0.0</td>\n",
              "      <td>1.0</td>\n",
              "      <td>0.0</td>\n",
              "      <td>1.0</td>\n",
              "      <td>0.0</td>\n",
              "    </tr>\n",
              "    <tr>\n",
              "      <th>3</th>\n",
              "      <td>1.0</td>\n",
              "      <td>0.1975</td>\n",
              "      <td>0.0</td>\n",
              "      <td>1.0</td>\n",
              "      <td>0.0</td>\n",
              "      <td>0.0</td>\n",
              "      <td>0.0</td>\n",
              "      <td>1.0</td>\n",
              "    </tr>\n",
              "    <tr>\n",
              "      <th>4</th>\n",
              "      <td>-1.0</td>\n",
              "      <td>0.1200</td>\n",
              "      <td>0.0</td>\n",
              "      <td>0.0</td>\n",
              "      <td>1.0</td>\n",
              "      <td>1.0</td>\n",
              "      <td>0.0</td>\n",
              "      <td>0.0</td>\n",
              "    </tr>\n",
              "  </tbody>\n",
              "</table>\n",
              "</div>\n",
              "      <button class=\"colab-df-convert\" onclick=\"convertToInteractive('df-0002bbe9-f74f-4fc5-b44e-4510dfd095f0')\"\n",
              "              title=\"Convert this dataframe to an interactive table.\"\n",
              "              style=\"display:none;\">\n",
              "        \n",
              "  <svg xmlns=\"http://www.w3.org/2000/svg\" height=\"24px\"viewBox=\"0 0 24 24\"\n",
              "       width=\"24px\">\n",
              "    <path d=\"M0 0h24v24H0V0z\" fill=\"none\"/>\n",
              "    <path d=\"M18.56 5.44l.94 2.06.94-2.06 2.06-.94-2.06-.94-.94-2.06-.94 2.06-2.06.94zm-11 1L8.5 8.5l.94-2.06 2.06-.94-2.06-.94L8.5 2.5l-.94 2.06-2.06.94zm10 10l.94 2.06.94-2.06 2.06-.94-2.06-.94-.94-2.06-.94 2.06-2.06.94z\"/><path d=\"M17.41 7.96l-1.37-1.37c-.4-.4-.92-.59-1.43-.59-.52 0-1.04.2-1.43.59L10.3 9.45l-7.72 7.72c-.78.78-.78 2.05 0 2.83L4 21.41c.39.39.9.59 1.41.59.51 0 1.02-.2 1.41-.59l7.78-7.78 2.81-2.81c.8-.78.8-2.07 0-2.86zM5.41 20L4 18.59l7.72-7.72 1.47 1.35L5.41 20z\"/>\n",
              "  </svg>\n",
              "      </button>\n",
              "      \n",
              "  <style>\n",
              "    .colab-df-container {\n",
              "      display:flex;\n",
              "      flex-wrap:wrap;\n",
              "      gap: 12px;\n",
              "    }\n",
              "\n",
              "    .colab-df-convert {\n",
              "      background-color: #E8F0FE;\n",
              "      border: none;\n",
              "      border-radius: 50%;\n",
              "      cursor: pointer;\n",
              "      display: none;\n",
              "      fill: #1967D2;\n",
              "      height: 32px;\n",
              "      padding: 0 0 0 0;\n",
              "      width: 32px;\n",
              "    }\n",
              "\n",
              "    .colab-df-convert:hover {\n",
              "      background-color: #E2EBFA;\n",
              "      box-shadow: 0px 1px 2px rgba(60, 64, 67, 0.3), 0px 1px 3px 1px rgba(60, 64, 67, 0.15);\n",
              "      fill: #174EA6;\n",
              "    }\n",
              "\n",
              "    [theme=dark] .colab-df-convert {\n",
              "      background-color: #3B4455;\n",
              "      fill: #D2E3FC;\n",
              "    }\n",
              "\n",
              "    [theme=dark] .colab-df-convert:hover {\n",
              "      background-color: #434B5C;\n",
              "      box-shadow: 0px 1px 3px 1px rgba(0, 0, 0, 0.15);\n",
              "      filter: drop-shadow(0px 1px 2px rgba(0, 0, 0, 0.3));\n",
              "      fill: #FFFFFF;\n",
              "    }\n",
              "  </style>\n",
              "\n",
              "      <script>\n",
              "        const buttonEl =\n",
              "          document.querySelector('#df-0002bbe9-f74f-4fc5-b44e-4510dfd095f0 button.colab-df-convert');\n",
              "        buttonEl.style.display =\n",
              "          google.colab.kernel.accessAllowed ? 'block' : 'none';\n",
              "\n",
              "        async function convertToInteractive(key) {\n",
              "          const element = document.querySelector('#df-0002bbe9-f74f-4fc5-b44e-4510dfd095f0');\n",
              "          const dataTable =\n",
              "            await google.colab.kernel.invokeFunction('convertToInteractive',\n",
              "                                                     [key], {});\n",
              "          if (!dataTable) return;\n",
              "\n",
              "          const docLinkHtml = 'Like what you see? Visit the ' +\n",
              "            '<a target=\"_blank\" href=https://colab.research.google.com/notebooks/data_table.ipynb>data table notebook</a>'\n",
              "            + ' to learn more about interactive tables.';\n",
              "          element.innerHTML = '';\n",
              "          dataTable['output_type'] = 'display_data';\n",
              "          await google.colab.output.renderOutput(dataTable, element);\n",
              "          const docLink = document.createElement('div');\n",
              "          docLink.innerHTML = docLinkHtml;\n",
              "          element.appendChild(docLink);\n",
              "        }\n",
              "      </script>\n",
              "    </div>\n",
              "  </div>\n",
              "  "
            ]
          },
          "metadata": {},
          "execution_count": 5
        }
      ]
    },
    {
      "cell_type": "markdown",
      "source": [
        "## a) Split the dataset into training and testing sets\n",
        "\n",
        "Split the dataset into training and testing sets. Keep 80% of the data for training and 20% of the data for testing."
      ],
      "metadata": {
        "id": "dVncPwnc9aBS"
      }
    },
    {
      "cell_type": "code",
      "source": [
        "from sklearn import datasets, model_selection, preprocessing\n",
        "from sklearn.metrics import accuracy_score\n",
        "\n",
        "X_train, X_test, y_train, y_test = model_selection.train_test_split(\n",
        "    features, target, test_size=0.2)\n",
        "#scaler = preprocessing.StandardScaler()\n",
        "#X_train = scaler.fit_transform(X_train)\n",
        "#X_test = scaler.fit_transform(X_test)"
      ],
      "metadata": {
        "execution": {
          "iopub.status.busy": "2023-03-08T15:00:45.851737Z",
          "iopub.execute_input": "2023-03-08T15:00:45.852434Z",
          "iopub.status.idle": "2023-03-08T15:00:45.863825Z",
          "shell.execute_reply.started": "2023-03-08T15:00:45.852382Z",
          "shell.execute_reply": "2023-03-08T15:00:45.862256Z"
        },
        "trusted": true,
        "id": "20JaHLbQ9aBT"
      },
      "execution_count": null,
      "outputs": []
    },
    {
      "cell_type": "markdown",
      "source": [
        "## b) Train a linear regression model\n",
        "\n"
      ],
      "metadata": {
        "id": "kTCtCQkd9aBT"
      }
    },
    {
      "cell_type": "code",
      "source": [
        "N = X_train.shape[0]\n",
        "A = np.column_stack((np.ones(N),X_train))\n",
        "\"\"\"theta = np.linalg.solve(A.T@A,A.T@y_train)\n",
        "y_hat = A @ theta\"\"\""
      ],
      "metadata": {
        "execution": {
          "iopub.status.busy": "2023-03-08T15:00:47.529683Z",
          "iopub.execute_input": "2023-03-08T15:00:47.530183Z",
          "iopub.status.idle": "2023-03-08T15:00:47.538005Z",
          "shell.execute_reply.started": "2023-03-08T15:00:47.530138Z",
          "shell.execute_reply": "2023-03-08T15:00:47.536394Z"
        },
        "trusted": true,
        "id": "M9_SgEpk9aBT",
        "outputId": "8a1c7804-9455-4a02-c67b-5ce1d4748f03",
        "colab": {
          "base_uri": "https://localhost:8080/",
          "height": 36
        }
      },
      "execution_count": null,
      "outputs": [
        {
          "output_type": "execute_result",
          "data": {
            "text/plain": [
              "'theta = np.linalg.solve(A.T@A,A.T@y_train)\\ny_hat = A @ theta'"
            ],
            "application/vnd.google.colaboratory.intrinsic+json": {
              "type": "string"
            }
          },
          "metadata": {},
          "execution_count": 7
        }
      ]
    },
    {
      "cell_type": "markdown",
      "source": [
        "## c) Assess the performance of your linear regression model\n"
      ],
      "metadata": {
        "id": "oIEiMo_A9aBU"
      }
    },
    {
      "cell_type": "code",
      "source": [
        "def rms(y, y_hat):\n",
        "    return np.sqrt(np.mean(np.square(y - y_hat)))\n",
        "\n",
        "def linear_regression(X, y):\n",
        "    return np.linalg.solve(X.T @ X, X.T @ y) \n",
        "def AvgError(yhat,y):\n",
        "  return np.average(np.absolute(yhat-y)/y)\n",
        "def MSE(y,yhat):\n",
        "  return np.square(np.subtract(y_train,y_hat)).mean()\n",
        "theta = linear_regression(A,y_train)\n",
        "y_hat = A @ theta\n",
        "print(rms(y_train,y_hat))\n",
        "print(\"The mse: \" ,MSE(y_train,y_hat))"
      ],
      "metadata": {
        "execution": {
          "iopub.status.busy": "2023-03-08T15:00:50.045738Z",
          "iopub.execute_input": "2023-03-08T15:00:50.046248Z",
          "iopub.status.idle": "2023-03-08T15:00:50.054034Z",
          "shell.execute_reply.started": "2023-03-08T15:00:50.046200Z",
          "shell.execute_reply": "2023-03-08T15:00:50.052376Z"
        },
        "trusted": true,
        "id": "OhCRjcL39aBV",
        "outputId": "4acaa47c-2385-4c80-9d7d-d9daccf19ccc",
        "colab": {
          "base_uri": "https://localhost:8080/"
        }
      },
      "execution_count": null,
      "outputs": [
        {
          "output_type": "stream",
          "name": "stdout",
          "text": [
            "price    0.026601\n",
            "dtype: float64\n",
            "The mse:  price    0.000708\n",
            "dtype: float64\n"
          ]
        },
        {
          "output_type": "stream",
          "name": "stderr",
          "text": [
            "/usr/local/lib/python3.9/dist-packages/numpy/core/fromnumeric.py:3472: FutureWarning: In a future version, DataFrame.mean(axis=None) will return a scalar mean over the entire DataFrame. To retain the old behavior, use 'frame.mean(axis=0)' or just 'frame.mean()'\n",
            "  return mean(axis=axis, dtype=dtype, out=out, **kwargs)\n"
          ]
        }
      ]
    },
    {
      "cell_type": "markdown",
      "source": [
        "## d) Build a neural network to predict house prices \n"
      ],
      "metadata": {
        "id": "yc7Z2CET9aBV"
      }
    },
    {
      "cell_type": "code",
      "source": [
        "import torch\n",
        "from torch import nn, optim, utils"
      ],
      "metadata": {
        "execution": {
          "iopub.status.busy": "2023-03-08T15:00:51.764563Z",
          "iopub.execute_input": "2023-03-08T15:00:51.765007Z",
          "iopub.status.idle": "2023-03-08T15:00:51.771765Z",
          "shell.execute_reply.started": "2023-03-08T15:00:51.764969Z",
          "shell.execute_reply": "2023-03-08T15:00:51.770128Z"
        },
        "trusted": true,
        "id": "1fBbsOaB9aBV"
      },
      "execution_count": null,
      "outputs": []
    },
    {
      "cell_type": "code",
      "source": [
        "train_features_tensor = torch.from_numpy(X_train.to_numpy().astype(np.float32))\n",
        "train_target_tensor = torch.from_numpy(y_train.to_numpy().astype(np.float32))\n",
        "\n",
        "train_dataset = utils.data.TensorDataset(\n",
        "    train_features_tensor,\n",
        "    train_target_tensor\n",
        ")\n",
        "\n",
        "test_features_tensor = torch.from_numpy(X_test.to_numpy().astype(np.float32))\n",
        "test_target_tensor = torch.from_numpy(y_test.to_numpy().astype(np.float32))\n",
        "    \n",
        "test_dataset = utils.data.TensorDataset(\n",
        "    test_features_tensor,\n",
        "    test_target_tensor\n",
        ")\n",
        "\n",
        "train_dataloader = utils.data.DataLoader(\n",
        "    train_dataset,\n",
        "    batch_size=40,\n",
        "    shuffle=True\n",
        ")\n",
        "\n",
        "test_dataloader = utils.data.DataLoader(\n",
        "    test_dataset,\n",
        "    batch_size=40,\n",
        "    shuffle=False\n",
        ")"
      ],
      "metadata": {
        "execution": {
          "iopub.status.busy": "2023-03-08T15:00:52.350794Z",
          "iopub.execute_input": "2023-03-08T15:00:52.351229Z",
          "iopub.status.idle": "2023-03-08T15:00:52.359983Z",
          "shell.execute_reply.started": "2023-03-08T15:00:52.351192Z",
          "shell.execute_reply": "2023-03-08T15:00:52.358657Z"
        },
        "trusted": true,
        "id": "IcU1RHH89aBV"
      },
      "execution_count": null,
      "outputs": []
    },
    {
      "cell_type": "code",
      "source": [
        "model = nn.Sequential(\n",
        "    nn.Linear(X_train.shape[1], 10),\n",
        "    nn.ReLU(),\n",
        "    nn.Linear(10, 10),\n",
        "    nn.ReLU(),\n",
        "    nn.Linear(10, 1)        \n",
        ") "
      ],
      "metadata": {
        "execution": {
          "iopub.status.busy": "2023-03-08T15:00:53.527562Z",
          "iopub.execute_input": "2023-03-08T15:00:53.528316Z",
          "iopub.status.idle": "2023-03-08T15:00:53.534786Z",
          "shell.execute_reply.started": "2023-03-08T15:00:53.528254Z",
          "shell.execute_reply": "2023-03-08T15:00:53.533523Z"
        },
        "trusted": true,
        "id": "ClxvctlZ9aBW"
      },
      "execution_count": null,
      "outputs": []
    },
    {
      "cell_type": "markdown",
      "source": [
        "## e) Train your neural network using gradient descent\n"
      ],
      "metadata": {
        "id": "wRKC6VPw9aBW"
      }
    },
    {
      "cell_type": "code",
      "source": [
        "# training loop\n",
        "loss_fn = nn.MSELoss()\n",
        "optimizer = optim.SGD(model.parameters(), lr=0.002)\n",
        "epochs = 20\n",
        "\n",
        "ls = []\n",
        "for epoch in range(epochs):\n",
        "  for batch_idx, (feature,label) in enumerate(train_dataloader):\n",
        "    optimizer.zero_grad()      # zero out the gradient for next iteration\n",
        "    X = feature\n",
        "    y= label\n",
        "    z = model(X)\n",
        "    loss = loss_fn(z,y)\n",
        "    loss.backward()            # computes the gradient\n",
        "    optimizer.step()           # update params by -lr * gradient\n",
        "  ls.append(loss.item())\n",
        "\n",
        "plt.figure()\n",
        "plt.plot(ls)\n",
        "\n"
      ],
      "metadata": {
        "execution": {
          "iopub.status.busy": "2023-03-08T15:00:54.452745Z",
          "iopub.execute_input": "2023-03-08T15:00:54.453446Z",
          "iopub.status.idle": "2023-03-08T15:00:54.459399Z",
          "shell.execute_reply.started": "2023-03-08T15:00:54.453406Z",
          "shell.execute_reply": "2023-03-08T15:00:54.457668Z"
        },
        "trusted": true,
        "id": "rbsEpRls9aBW",
        "outputId": "ee4ae344-a3e4-4935-d861-6f241c70a04b",
        "colab": {
          "base_uri": "https://localhost:8080/",
          "height": 285
        }
      },
      "execution_count": null,
      "outputs": [
        {
          "output_type": "execute_result",
          "data": {
            "text/plain": [
              "[<matplotlib.lines.Line2D at 0x7fcd1d34fd60>]"
            ]
          },
          "metadata": {},
          "execution_count": 12
        },
        {
          "output_type": "display_data",
          "data": {
            "text/plain": [
              "<Figure size 432x288 with 1 Axes>"
            ],
            "image/png": "[encoded data removed]"
          },
          "metadata": {
            "needs_background": "light"
          }
        }
      ]
    },
    {
      "cell_type": "markdown",
      "source": [
        "## f) Assess the performance of your neural network\n"
      ],
      "metadata": {
        "id": "BOZPKa8h9aBX"
      }
    },
    {
      "cell_type": "code",
      "source": [
        "rmsTot = 0 \n",
        "mse = 0\n",
        "for batch_idx, (feature,label) in enumerate(test_dataloader):\n",
        "  y_hat = model(feature)\n",
        "  rmsTot += rms(label.detach().numpy(),y_hat.detach().numpy())\n",
        "print(\"rms test :\",rmsTot / len(test_dataloader))\n",
        "\n",
        "for batch_idx, (feature,label) in enumerate(train_dataloader):\n",
        "  y_hat = model(feature)\n",
        "  rmsTot += rms(label.detach().numpy(),y_hat.detach().numpy())\n",
        "\n",
        "print(\"rms train :\",rmsTot / len(train_dataloader))"
      ],
      "metadata": {
        "execution": {
          "iopub.status.busy": "2023-03-08T15:00:56.346747Z",
          "iopub.execute_input": "2023-03-08T15:00:56.347226Z",
          "iopub.status.idle": "2023-03-08T15:00:56.356599Z",
          "shell.execute_reply.started": "2023-03-08T15:00:56.347181Z",
          "shell.execute_reply": "2023-03-08T15:00:56.354646Z"
        },
        "trusted": true,
        "id": "VUqGwlQX9aBY",
        "outputId": "edac2999-462a-4bee-f64c-c4324a8756b7",
        "colab": {
          "base_uri": "https://localhost:8080/"
        }
      },
      "execution_count": null,
      "outputs": [
        {
          "output_type": "stream",
          "name": "stdout",
          "text": [
            "rms test : 0.28574955463409424\n",
            "rms train : 0.3518042340874672\n"
          ]
        }
      ]
    },
    {
      "cell_type": "markdown",
      "source": [
        "# Q2. Classification\n"
      ],
      "metadata": {
        "id": "ywMbqKP2AORQ"
      }
    },
    {
      "cell_type": "code",
      "source": [
        "%%bash\n",
        "\n",
        "gdown 1_n5odu1KSpBAqO_Ddbqy2Ty0mG12Dr0A\n",
        "gdown 1C7GK_uY0srlUdLfHfGa4IZcfthmmdROr"
      ],
      "metadata": {
        "id": "2RCsg-mtR20C",
        "outputId": "386de64c-6294-4829-c530-98f9200dd880",
        "colab": {
          "base_uri": "https://localhost:8080/"
        }
      },
      "execution_count": null,
      "outputs": [
        {
          "output_type": "stream",
          "name": "stderr",
          "text": [
            "Downloading...\n",
            "From: https://drive.google.com/uc?id=1_n5odu1KSpBAqO_Ddbqy2Ty0mG12Dr0A\n",
            "To: /content/spiral_features.npy\n",
            "\r  0%|          | 0.00/4.93k [00:00<?, ?B/s]\r100%|██████████| 4.93k/4.93k [00:00<00:00, 10.7MB/s]\n",
            "Downloading...\n",
            "From: https://drive.google.com/uc?id=1C7GK_uY0srlUdLfHfGa4IZcfthmmdROr\n",
            "To: /content/spiral_target.npy\n",
            "\r  0%|          | 0.00/428 [00:00<?, ?B/s]\r100%|██████████| 428/428 [00:00<00:00, 1.67MB/s]\n"
          ]
        }
      ]
    },
    {
      "cell_type": "code",
      "source": [
        "features = (np.load(DATA_DIR / \"spiral_features.npy\")\n",
        "              .astype(np.float32))\n",
        "target = np.load(DATA_DIR / \"spiral_target.npy\")\n",
        "\n",
        "# visualize the data\n",
        "plt.scatter(features[:, 0], features[:, 1], c=target, s=20)\n",
        "plt.show()"
      ],
      "metadata": {
        "id": "6g1OV8ho9aBZ",
        "outputId": "5d5697fb-effc-4a61-897b-f82c05b5157c",
        "colab": {
          "base_uri": "https://localhost:8080/",
          "height": 265
        }
      },
      "execution_count": null,
      "outputs": [
        {
          "output_type": "display_data",
          "data": {
            "text/plain": [
              "<Figure size 432x288 with 1 Axes>"
            ],
            "image/png": "[encoded data removed]"
          },
          "metadata": {
            "needs_background": "light"
          }
        }
      ]
    },
    {
      "cell_type": "markdown",
      "source": [
        "## a) Split the dataset into training and testing sets\n"
      ],
      "metadata": {
        "id": "Ef_iVNRoAZp4"
      }
    },
    {
      "cell_type": "code",
      "source": [
        "X_train, X_test, y_train, y_test = model_selection.train_test_split(\n",
        "    features, target, test_size=0.2)\n",
        "print(X_train.shape)"
      ],
      "metadata": {
        "id": "TE4YSz1CAWCQ",
        "outputId": "a2002f17-9496-489e-e627-c962cf7ee3db",
        "colab": {
          "base_uri": "https://localhost:8080/"
        }
      },
      "execution_count": null,
      "outputs": [
        {
          "output_type": "stream",
          "name": "stdout",
          "text": [
            "(240, 2)\n"
          ]
        }
      ]
    },
    {
      "cell_type": "markdown",
      "source": [
        "## b) Train a logistic regression model\n"
      ],
      "metadata": {
        "id": "vpZJHaKtAcw6"
      }
    },
    {
      "cell_type": "markdown",
      "source": [
        "## c) Assess the performance of your logistic regression model"
      ],
      "metadata": {
        "id": "rKeAu9DxBtIQ"
      }
    },
    {
      "cell_type": "code",
      "source": [
        "train_features_tensor = torch.from_numpy(X_train.astype(np.float32))\n",
        "train_target_tensor = torch.from_numpy(y_train.astype(np.int64))\n",
        "\n",
        "train_dataset = utils.data.TensorDataset(\n",
        "    train_features_tensor,\n",
        "    train_target_tensor\n",
        ")\n",
        "\n",
        "test_features_tensor = torch.from_numpy(X_test)\n",
        "test_target_tensor = torch.from_numpy(y_test)\n",
        "    \n",
        "test_dataset = utils.data.TensorDataset(\n",
        "    test_features_tensor,\n",
        "    test_target_tensor\n",
        ")\n",
        "\n",
        "train_dataloader = utils.data.DataLoader(\n",
        "    train_dataset,\n",
        "    batch_size=40,\n",
        "    shuffle=True\n",
        ")\n",
        "\n",
        "test_dataloader = utils.data.DataLoader(\n",
        "    test_dataset,\n",
        "    batch_size=40,\n",
        "    shuffle=False\n",
        ")"
      ],
      "metadata": {
        "id": "jr7zrbEfAbKq"
      },
      "execution_count": null,
      "outputs": []
    },
    {
      "cell_type": "code",
      "source": [
        "print(train_features_tensor.shape)"
      ],
      "metadata": {
        "id": "pGurrQy6A04S",
        "outputId": "237f1e49-d5d1-4899-ae34-6e5e6a77317b",
        "colab": {
          "base_uri": "https://localhost:8080/"
        }
      },
      "execution_count": null,
      "outputs": [
        {
          "output_type": "stream",
          "name": "stdout",
          "text": [
            "torch.Size([240, 2])\n"
          ]
        }
      ]
    },
    {
      "cell_type": "code",
      "source": [
        "input = train_features_tensor.shape[1]\n",
        "model3 = nn.Sequential(\n",
        "    nn.Linear(input,3),\n",
        "    nn.Softmax(dim =1)      \n",
        ") \n",
        "\n",
        "loss_fn = nn.CrossEntropyLoss()\n",
        "optimizer = optim.SGD(model3.parameters(), lr=0.1)\n",
        "epochs = 2000\n",
        "\n",
        "ls = []\n",
        "for epoch in range(epochs):\n",
        "  total_loss = 0\n",
        "  for batch_idx, (feature,label) in enumerate(train_dataloader):\n",
        "    optimizer.zero_grad()      # zero out the gradient for next iteration\n",
        "    X = feature\n",
        "    y= label\n",
        "    z = model3(X)\n",
        "    loss = loss_fn(z,y)\n",
        "    loss.backward()            # computes the gradient\n",
        "    optimizer.step()           # update params by -lr * gradient\n",
        "  ls.append(loss.item())\n",
        "\n",
        "plt.figure()\n",
        "plt.plot(ls)\n"
      ],
      "metadata": {
        "colab": {
          "base_uri": "https://localhost:8080/",
          "height": 283
        },
        "id": "V8Nl0A4-E5SY",
        "outputId": "46e6f71f-16ff-4a13-be0b-fe9df789d520"
      },
      "execution_count": null,
      "outputs": [
        {
          "output_type": "execute_result",
          "data": {
            "text/plain": [
              "[<matplotlib.lines.Line2D at 0x7fcd19b66a00>]"
            ]
          },
          "metadata": {},
          "execution_count": 28
        },
        {
          "output_type": "display_data",
          "data": {
            "text/plain": [
              "<Figure size 432x288 with 1 Axes>"
            ],
            "image/png": "[encoded data removed]"
          },
          "metadata": {
            "needs_background": "light"
          }
        }
      ]
    },
    {
      "cell_type": "code",
      "source": [
        "accuracy = 0\n",
        "for batch_idx, (feature,label) in enumerate(test_dataloader):\n",
        "  y_hat = model3(feature)\n",
        "  pred =  torch.argmax(y_hat, dim=1)\n",
        "  accuracy += torch.sum((pred == label)) / label.shape[0]\n",
        "  print(accuracy)\n",
        "print('accuracy Test: ', (accuracy.item()*100)/len(test_dataloader), '%')\n",
        "\n",
        "accuracy = 0\n",
        "for batch_idx, (feature,label) in enumerate(train_dataloader):\n",
        "  y_hat = model3(feature)\n",
        "  pred =  torch.argmax(y_hat, dim=1)\n",
        "  accuracy += torch.sum((pred == label)) / label.shape[0]\n",
        "print('accuracy Train: ', (accuracy.item()*100)/len(train_dataloader), '%')\n"
      ],
      "metadata": {
        "colab": {
          "base_uri": "https://localhost:8080/"
        },
        "id": "NwGsDFKdF0XJ",
        "outputId": "090cca22-23e1-4062-fef7-32d70591a55f"
      },
      "execution_count": null,
      "outputs": [
        {
          "output_type": "stream",
          "name": "stdout",
          "text": [
            "tensor(0.5000)\n",
            "tensor(1.0500)\n",
            "accuracy Test:  52.49999761581421 %\n",
            "accuracy Train:  67.49999523162842 %\n"
          ]
        }
      ]
    },
    {
      "cell_type": "markdown",
      "source": [
        "## d) Build a neural network classifier \n"
      ],
      "metadata": {
        "id": "xVE3pwIoB6lk"
      }
    },
    {
      "cell_type": "code",
      "source": [
        "model2 = nn.Sequential(\n",
        "    nn.Linear(2, 100),\n",
        "    nn.ReLU(),\n",
        "    nn.Linear(100, 3),\n",
        "    nn.Softmax(dim =1)      \n",
        ") "
      ],
      "metadata": {
        "id": "yN0IhgvlB3Ox"
      },
      "execution_count": null,
      "outputs": []
    },
    {
      "cell_type": "markdown",
      "source": [
        "## e) Assess the performance of your neural network\n"
      ],
      "metadata": {
        "id": "Xrqkw0XgCNDY"
      }
    },
    {
      "cell_type": "code",
      "source": [
        "# training loop\n",
        "loss_fn = nn.CrossEntropyLoss()\n",
        "optimizer = optim.SGD(model2.parameters(), lr=0.1)\n",
        "epochs = 2000\n",
        "\n",
        "ls = []\n",
        "for epoch in range(epochs):\n",
        "  total_loss = 0\n",
        "  for batch_idx, (feature,label) in enumerate(train_dataloader):\n",
        "    optimizer.zero_grad()      # zero out the gradient for next iteration\n",
        "    X = feature\n",
        "    y= label\n",
        "    z = model2(X)\n",
        "    loss = loss_fn(z,y)\n",
        "    loss.backward()            # computes the gradient\n",
        "    optimizer.step()           # update params by -lr * gradient\n",
        "  ls.append(loss.item())\n",
        "\n",
        "plt.figure()\n",
        "plt.plot(ls)\n",
        "\n"
      ],
      "metadata": {
        "id": "q5z5M2-aCKZd",
        "outputId": "53bab211-4ee0-40e0-e7c1-8afa3f8efb6e",
        "colab": {
          "base_uri": "https://localhost:8080/",
          "height": 283
        }
      },
      "execution_count": null,
      "outputs": [
        {
          "output_type": "execute_result",
          "data": {
            "text/plain": [
              "[<matplotlib.lines.Line2D at 0x7fcd19a76e80>]"
            ]
          },
          "metadata": {},
          "execution_count": 31
        },
        {
          "output_type": "display_data",
          "data": {
            "text/plain": [
              "<Figure size 432x288 with 1 Axes>"
            ],
            "image/png": "[encoded data removed]"
          },
          "metadata": {
            "needs_background": "light"
          }
        }
      ]
    },
    {
      "cell_type": "code",
      "source": [
        "accuracy = 0\n",
        "for batch_idx, (feature,label) in enumerate(test_dataloader):\n",
        "  y_hat = model2(feature)\n",
        "  pred =  torch.argmax(y_hat, dim=1)\n",
        "  accuracy += torch.sum((pred == label)) / label.shape[0]\n",
        "  print(accuracy)\n",
        "print('accuracy Test: ', (accuracy.item()*100)/len(test_dataloader), '%')\n",
        "\n",
        "accuracy = 0\n",
        "for batch_idx, (feature,label) in enumerate(train_dataloader):\n",
        "  y_hat = model2(feature)\n",
        "  pred =  torch.argmax(y_hat, dim=1)\n",
        "  accuracy += torch.sum((pred == label)) / label.shape[0]\n",
        "print('accuracy Train: ', (accuracy.item()*100)/len(train_dataloader), '%')\n"
      ],
      "metadata": {
        "colab": {
          "base_uri": "https://localhost:8080/"
        },
        "id": "cHGQi5-pK3T4",
        "outputId": "7f6121ad-6481-42e4-f8e1-cd04cc0db71e"
      },
      "execution_count": null,
      "outputs": [
        {
          "output_type": "stream",
          "name": "stdout",
          "text": [
            "tensor(1.)\n",
            "tensor(1.9500)\n",
            "accuracy Test:  97.50000238418579 %\n",
            "accuracy Train:  96.2500015894572 %\n"
          ]
        }
      ]
    },
    {
      "cell_type": "markdown",
      "source": [
        "## e) Interpret the confusion matrix\n"
      ],
      "metadata": {
        "id": "q2bSpQJiCa8v"
      }
    },
    {
      "cell_type": "code",
      "source": [
        "from sklearn import metrics"
      ],
      "metadata": {
        "id": "kL4TgvmxCSlg"
      },
      "execution_count": null,
      "outputs": []
    },
    {
      "cell_type": "code",
      "source": [
        "cf = 0 \n",
        "for batch_idx, (feature,label) in enumerate(test_dataloader):\n",
        "  y_hat = model2(feature)\n",
        "  pred =  torch.argmax(y_hat, dim=1)\n",
        "  cf += metrics.confusion_matrix(label,pred)\n",
        "print(cf)\n",
        "\n",
        "cf = 0\n",
        "for batch_idx, (feature,label) in enumerate(train_dataloader):\n",
        "  y_hat = model2(feature)\n",
        "  pred =  torch.argmax(y_hat, dim=1)\n",
        "  cf += metrics.confusion_matrix(label,pred)\n",
        "print(cf)"
      ],
      "metadata": {
        "id": "PkqRjLgMDBvE",
        "colab": {
          "base_uri": "https://localhost:8080/"
        },
        "outputId": "1cc56097-815d-464b-ba9e-0aac41d42b67"
      },
      "execution_count": null,
      "outputs": [
        {
          "output_type": "stream",
          "name": "stdout",
          "text": [
            "[[19  0  0]\n",
            " [ 0 15  1]\n",
            " [ 0  0 25]]\n",
            "[[78  1  2]\n",
            " [ 0 78  6]\n",
            " [ 0  0 75]]\n"
          ]
        }
      ]
    },
    {
      "cell_type": "markdown",
      "source": [
        "## f) Create your own deep neural network!"
      ],
      "metadata": {
        "id": "c42vE4YnD3sD"
      }
    },
    {
      "cell_type": "code",
      "source": [
        "model3 = nn.Sequential(\n",
        "    nn.Linear(2, 100),\n",
        "    nn.ReLU(),\n",
        "    nn.Linear(100, 64),\n",
        "    nn.ReLU(),\n",
        "    nn.Linear(64, 32),\n",
        "    nn.ReLU(),\n",
        "    nn.Linear(32, 16),\n",
        "    nn.ReLU(),\n",
        "    nn.Linear(16, 3),\n",
        "    nn.Softmax(dim =1)      \n",
        ") "
      ],
      "metadata": {
        "id": "z3o5DXN0IJnc"
      },
      "execution_count": null,
      "outputs": []
    },
    {
      "cell_type": "code",
      "source": [
        "# training loop\n",
        "loss_fn = nn.CrossEntropyLoss()\n",
        "optimizer = optim.SGD(model3.parameters(), lr=0.1)\n",
        "epochs = 2000\n",
        "\n",
        "ls = []\n",
        "for epoch in range(epochs):\n",
        "  for batch_idx, (feature,label) in enumerate(train_dataloader):\n",
        "    optimizer.zero_grad()      # zero out the gradient for next iteration\n",
        "    X = feature\n",
        "    y= label\n",
        "    z = model3(X)\n",
        "    loss = loss_fn(z,y)\n",
        "    loss.backward()            # computes the gradient\n",
        "    optimizer.step()           # update params by -lr * gradient\n",
        "  ls.append(loss.item())\n",
        "\"\"\"    if epoch % 30 == 0:\n",
        "        print(loss.item())\"\"\"\n",
        "\n",
        "plt.figure()\n",
        "plt.plot(ls)\n",
        "\n"
      ],
      "metadata": {
        "colab": {
          "base_uri": "https://localhost:8080/",
          "height": 283
        },
        "id": "G5pTvUNuQRfS",
        "outputId": "d0bc6a58-b3ff-4686-f7da-e34dfc28fe1c"
      },
      "execution_count": null,
      "outputs": [
        {
          "output_type": "execute_result",
          "data": {
            "text/plain": [
              "[<matplotlib.lines.Line2D at 0x7fcd19a115e0>]"
            ]
          },
          "metadata": {},
          "execution_count": 36
        },
        {
          "output_type": "display_data",
          "data": {
            "text/plain": [
              "<Figure size 432x288 with 1 Axes>"
            ],
            "image/png": "[encoded data removed]"
          },
          "metadata": {
            "needs_background": "light"
          }
        }
      ]
    },
    {
      "cell_type": "code",
      "source": [
        "accuracy = 0\n",
        "for batch_idx, (feature,label) in enumerate(test_dataloader):\n",
        "  y_hat = nn.functional.softmax(model3(feature), dim=1)\n",
        "  pred =  torch.argmax(y_hat, dim=1)\n",
        "  accuracy += torch.sum((pred == label)) /label.shape[0] \n",
        "print('accuracy Test: ', (accuracy.item()*100)/len(test_dataloader), '%')\n",
        "accuracy = 0\n",
        "for batch_idx, (feature,label) in enumerate(train_dataloader):\n",
        "  y_hat = nn.functional.softmax(model3(feature), dim=1)\n",
        "  pred =  torch.argmax(y_hat, dim=1)\n",
        "  accuracy += torch.sum((pred == label)) / label.shape[0]\n",
        "print('accuracy Train: ', (accuracy.item()*100)/len(train_dataloader), '%')\n"
      ],
      "metadata": {
        "colab": {
          "base_uri": "https://localhost:8080/"
        },
        "id": "yFLC71CDQrpf",
        "outputId": "7c85f618-28d6-485c-ad33-2201fbccc1fb"
      },
      "execution_count": null,
      "outputs": [
        {
          "output_type": "stream",
          "name": "stdout",
          "text": [
            "accuracy Test:  97.50000238418579 %\n",
            "accuracy Train:  99.16666348775227 %\n"
          ]
        }
      ]
    }
  ]
}